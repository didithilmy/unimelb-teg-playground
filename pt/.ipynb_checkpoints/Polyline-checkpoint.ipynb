{
 "cells": [
  {
   "cell_type": "code",
   "execution_count": 139,
   "id": "feb6228f-4fd5-4c63-a616-b6d93ec737ab",
   "metadata": {},
   "outputs": [],
   "source": [
    "import pandas as pd\n",
    "from geopy.distance import geodesic\n",
    "from skspatial.objects import LineSegment\n",
    "from typing import List, Tuple"
   ]
  },
  {
   "cell_type": "code",
   "execution_count": 2,
   "id": "0c1a1bba-3080-426d-b6bc-0b585b7b14a5",
   "metadata": {},
   "outputs": [],
   "source": [
    "df = pd.read_json(\"links.json\")"
   ]
  },
  {
   "cell_type": "code",
   "execution_count": 163,
   "id": "574de33d-45fe-450b-95ce-75b0f9ccde64",
   "metadata": {},
   "outputs": [],
   "source": [
    "def get_closest_distance_between_segments(ls1, ls2):\n",
    "    a0, a1 = np.array(ls1)\n",
    "    b0, b1 = np.array(ls2)\n",
    "    \n",
    "    # Calculate denomitator\n",
    "    A = a1 - a0\n",
    "    B = b1 - b0\n",
    "    magA = np.linalg.norm(A)\n",
    "    magB = np.linalg.norm(B)\n",
    "    \n",
    "    _A = A / magA\n",
    "    _B = B / magB\n",
    "    \n",
    "    cross = np.cross(_A, _B);\n",
    "    denom = np.linalg.norm(cross)**2\n",
    "    \n",
    "    \n",
    "    # If lines are parallel (denom=0) test if lines overlap.\n",
    "    # If they don't overlap then there is a closest point solution.\n",
    "    # If they do overlap, there are infinite closest positions, but there is a closest distance\n",
    "    if not denom:\n",
    "        d0 = np.dot(_A,(b0-a0))\n",
    "        d1 = np.dot(_A,(b1-a0))\n",
    "            \n",
    "        # Is segment B before A?\n",
    "        if d0 <= 0 >= d1:\n",
    "            if np.absolute(d0) < np.absolute(d1):\n",
    "                return a0,b0,np.linalg.norm(a0-b0)\n",
    "            return a0,b1,np.linalg.norm(a0-b1)\n",
    "                \n",
    "                \n",
    "        # Is segment B after A?\n",
    "        elif d0 >= magA <= d1:\n",
    "            if np.absolute(d0) < np.absolute(d1):\n",
    "                return a1,b0,np.linalg.norm(a1-b0)\n",
    "            return a1,b1,np.linalg.norm(a1-b1)\n",
    "    \n",
    "        # Segments overlap, return distance between parallel segments\n",
    "        return None, None, np.linalg.norm(((d0*_A)+a0)-b0)\n",
    "    \n",
    "    # Lines criss-cross: Calculate the projected closest points\n",
    "    t = (b0 - a0);\n",
    "    detA = np.linalg.det([t, _B])\n",
    "    detB = np.linalg.det([t, _A])\n",
    "\n",
    "    t0 = detA/denom;\n",
    "    t1 = detB/denom;\n",
    "\n",
    "    pA = a0 + (_A * t0) # Projected closest point on segment A\n",
    "    pB = b0 + (_B * t1) # Projected closest point on segment B\n",
    "\n",
    "    # Clamp projections\n",
    "    if t0 < 0:\n",
    "            pA = a0\n",
    "    elif t0 > magA:\n",
    "            pA = a1\n",
    "        \n",
    "    if t1 < 0:\n",
    "            pB = b0\n",
    "    elif t1 > magB:\n",
    "            pB = b1\n",
    "            \n",
    "    # Clamp projection A\n",
    "    if (t0 < 0) or (t0 > magA):\n",
    "            dot = np.dot(_B,(pA-b0))\n",
    "            if dot < 0:\n",
    "                dot = 0\n",
    "            elif dot > magB:\n",
    "                dot = magB\n",
    "            pB = b0 + (_B * dot)\n",
    "    \n",
    "    # Clamp projection B\n",
    "    if (t1 < 0) or (t1 > magB):\n",
    "            dot = np.dot(_A,(pB-a0))\n",
    "            if dot < 0:\n",
    "                dot = 0\n",
    "            elif dot > magA:\n",
    "                dot = magA\n",
    "            pA = a0 + (_A * dot)\n",
    "\n",
    "    \n",
    "    return pA, pB, np.linalg.norm(pA - pB)"
   ]
  },
  {
   "cell_type": "code",
   "execution_count": 180,
   "id": "cb0d64e1-48d7-4eec-b2e9-7634b698e2dd",
   "metadata": {},
   "outputs": [],
   "source": [
    "def polyline_to_line_segments(polyline) -> List[Tuple[float, float]]:\n",
    "    segments = []\n",
    "    for i in range(0, len(polyline) - 1):\n",
    "        coord1, coord2 = polyline[i], polyline[i+1]\n",
    "        segments.append((coord1, coord2))\n",
    "    return segments\n",
    "        \n",
    "        \n",
    "def is_polyline_segment_close(polyline1, polyline2, threshold_deg=0.00001):\n",
    "    \"\"\"\n",
    "    Polyline format: [(lon, lat), (lon, lat), ...]\n",
    "    \"\"\"\n",
    "\n",
    "    line_segments_1 = polyline_to_line_segments(polyline1)\n",
    "    line_segments_2 = polyline_to_line_segments(polyline2)\n",
    "\n",
    "    for lseg1 in line_segments_1:\n",
    "        for lseg2 in line_segments_2:\n",
    "            _, _, dist = get_closest_distance_between_segments(lseg1, lseg2)\n",
    "            if dist <= threshold_deg:\n",
    "                return True\n",
    "\n",
    "    return False"
   ]
  },
  {
   "cell_type": "code",
   "execution_count": 181,
   "id": "1c4a0774-116c-4da3-8818-75ef1c1ac340",
   "metadata": {},
   "outputs": [
    {
     "name": "stderr",
     "output_type": "stream",
     "text": [
      "/var/folders/71/711bc3rd5zx9ngj8wtlnwjjw0000gn/T/ipykernel_4176/3342295712.py:12: RuntimeWarning: invalid value encountered in divide\n",
      "  _B = B / magB\n",
      "/var/folders/71/711bc3rd5zx9ngj8wtlnwjjw0000gn/T/ipykernel_4176/3342295712.py:11: RuntimeWarning: invalid value encountered in divide\n",
      "  _A = A / magA\n"
     ]
    },
    {
     "data": {
      "text/plain": [
       "False"
      ]
     },
     "execution_count": 181,
     "metadata": {},
     "output_type": "execute_result"
    }
   ],
   "source": [
    "is_polyline_segment_close(df.iloc[0].polyline, df.iloc[1].polyline)"
   ]
  },
  {
   "cell_type": "code",
   "execution_count": null,
   "id": "2c8cd8ad-7b62-40ee-9f59-e096d0ec1ad8",
   "metadata": {},
   "outputs": [],
   "source": []
  }
 ],
 "metadata": {
  "kernelspec": {
   "display_name": "Python 3 (ipykernel)",
   "language": "python",
   "name": "python3"
  },
  "language_info": {
   "codemirror_mode": {
    "name": "ipython",
    "version": 3
   },
   "file_extension": ".py",
   "mimetype": "text/x-python",
   "name": "python",
   "nbconvert_exporter": "python",
   "pygments_lexer": "ipython3",
   "version": "3.9.17"
  }
 },
 "nbformat": 4,
 "nbformat_minor": 5
}
